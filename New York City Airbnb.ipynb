{
 "cells": [
  {
   "cell_type": "code",
   "execution_count": 1,
   "id": "51aab1ea",
   "metadata": {},
   "outputs": [],
   "source": [
    "# importing required library  \n",
    "\n",
    "import pandas as pd\n",
    "import numpy as np\n",
    "from scipy import stats"
   ]
  },
  {
   "cell_type": "code",
   "execution_count": 2,
   "id": "143f261b",
   "metadata": {
    "scrolled": true
   },
   "outputs": [],
   "source": [
    "# importing csv data file\n",
    "\n",
    "nyc = pd.read_csv(r\"C:\\Users\\Asus\\Downloads\\archive (2)\\AB_NYC_2019.csv\")"
   ]
  },
  {
   "cell_type": "code",
   "execution_count": null,
   "id": "6d46f858",
   "metadata": {},
   "outputs": [],
   "source": [
    "# Display the first few rows of the dataframe to understand its structure\n",
    "\n",
    "print(ifood_df.head())"
   ]
  },
  {
   "cell_type": "code",
   "execution_count": 3,
   "id": "58ae9829",
   "metadata": {},
   "outputs": [
    {
     "data": {
      "text/plain": [
       "Index(['id', 'name', 'host_id', 'host_name', 'neighbourhood_group',\n",
       "       'neighbourhood', 'latitude', 'longitude', 'room_type', 'price',\n",
       "       'minimum_nights', 'number_of_reviews', 'last_review',\n",
       "       'reviews_per_month', 'calculated_host_listings_count',\n",
       "       'availability_365'],\n",
       "      dtype='object')"
      ]
     },
     "execution_count": 3,
     "metadata": {},
     "output_type": "execute_result"
    }
   ],
   "source": [
    "# columns in dataframe\n",
    "\n",
    "nyc.columns"
   ]
  },
  {
   "cell_type": "code",
   "execution_count": 4,
   "id": "f3e9bb9f",
   "metadata": {},
   "outputs": [
    {
     "data": {
      "text/plain": [
       "(48895, 16)"
      ]
     },
     "execution_count": 4,
     "metadata": {},
     "output_type": "execute_result"
    }
   ],
   "source": [
    "# Get dimentions of the dataframe\n",
    "\n",
    "nyc.shape"
   ]
  },
  {
   "cell_type": "code",
   "execution_count": 5,
   "id": "98cee09d",
   "metadata": {},
   "outputs": [
    {
     "name": "stdout",
     "output_type": "stream",
     "text": [
      "<class 'pandas.core.frame.DataFrame'>\n",
      "RangeIndex: 48895 entries, 0 to 48894\n",
      "Data columns (total 16 columns):\n",
      " #   Column                          Non-Null Count  Dtype  \n",
      "---  ------                          --------------  -----  \n",
      " 0   id                              48895 non-null  int64  \n",
      " 1   name                            48879 non-null  object \n",
      " 2   host_id                         48895 non-null  int64  \n",
      " 3   host_name                       48874 non-null  object \n",
      " 4   neighbourhood_group             48895 non-null  object \n",
      " 5   neighbourhood                   48895 non-null  object \n",
      " 6   latitude                        48895 non-null  float64\n",
      " 7   longitude                       48895 non-null  float64\n",
      " 8   room_type                       48895 non-null  object \n",
      " 9   price                           48895 non-null  int64  \n",
      " 10  minimum_nights                  48895 non-null  int64  \n",
      " 11  number_of_reviews               48895 non-null  int64  \n",
      " 12  last_review                     38843 non-null  object \n",
      " 13  reviews_per_month               38843 non-null  float64\n",
      " 14  calculated_host_listings_count  48895 non-null  int64  \n",
      " 15  availability_365                48895 non-null  int64  \n",
      "dtypes: float64(3), int64(7), object(6)\n",
      "memory usage: 6.0+ MB\n"
     ]
    }
   ],
   "source": [
    "# Basic information \n",
    "\n",
    "nyc.info()"
   ]
  },
  {
   "cell_type": "code",
   "execution_count": 6,
   "id": "3dd1d102",
   "metadata": {
    "scrolled": true
   },
   "outputs": [
    {
     "data": {
      "text/html": [
       "<div>\n",
       "<style scoped>\n",
       "    .dataframe tbody tr th:only-of-type {\n",
       "        vertical-align: middle;\n",
       "    }\n",
       "\n",
       "    .dataframe tbody tr th {\n",
       "        vertical-align: top;\n",
       "    }\n",
       "\n",
       "    .dataframe thead th {\n",
       "        text-align: right;\n",
       "    }\n",
       "</style>\n",
       "<table border=\"1\" class=\"dataframe\">\n",
       "  <thead>\n",
       "    <tr style=\"text-align: right;\">\n",
       "      <th></th>\n",
       "      <th>id</th>\n",
       "      <th>name</th>\n",
       "      <th>host_id</th>\n",
       "      <th>host_name</th>\n",
       "      <th>neighbourhood_group</th>\n",
       "      <th>neighbourhood</th>\n",
       "      <th>latitude</th>\n",
       "      <th>longitude</th>\n",
       "      <th>room_type</th>\n",
       "      <th>price</th>\n",
       "      <th>minimum_nights</th>\n",
       "      <th>number_of_reviews</th>\n",
       "      <th>last_review</th>\n",
       "      <th>reviews_per_month</th>\n",
       "      <th>calculated_host_listings_count</th>\n",
       "      <th>availability_365</th>\n",
       "    </tr>\n",
       "  </thead>\n",
       "  <tbody>\n",
       "    <tr>\n",
       "      <th>0</th>\n",
       "      <td>2539</td>\n",
       "      <td>Clean &amp; quiet apt home by the park</td>\n",
       "      <td>2787</td>\n",
       "      <td>John</td>\n",
       "      <td>Brooklyn</td>\n",
       "      <td>Kensington</td>\n",
       "      <td>40.64749</td>\n",
       "      <td>-73.97237</td>\n",
       "      <td>Private room</td>\n",
       "      <td>149</td>\n",
       "      <td>1</td>\n",
       "      <td>9</td>\n",
       "      <td>2018-10-19</td>\n",
       "      <td>0.21</td>\n",
       "      <td>6</td>\n",
       "      <td>365</td>\n",
       "    </tr>\n",
       "    <tr>\n",
       "      <th>1</th>\n",
       "      <td>2595</td>\n",
       "      <td>Skylit Midtown Castle</td>\n",
       "      <td>2845</td>\n",
       "      <td>Jennifer</td>\n",
       "      <td>Manhattan</td>\n",
       "      <td>Midtown</td>\n",
       "      <td>40.75362</td>\n",
       "      <td>-73.98377</td>\n",
       "      <td>Entire home/apt</td>\n",
       "      <td>225</td>\n",
       "      <td>1</td>\n",
       "      <td>45</td>\n",
       "      <td>2019-05-21</td>\n",
       "      <td>0.38</td>\n",
       "      <td>2</td>\n",
       "      <td>355</td>\n",
       "    </tr>\n",
       "    <tr>\n",
       "      <th>2</th>\n",
       "      <td>3647</td>\n",
       "      <td>THE VILLAGE OF HARLEM....NEW YORK !</td>\n",
       "      <td>4632</td>\n",
       "      <td>Elisabeth</td>\n",
       "      <td>Manhattan</td>\n",
       "      <td>Harlem</td>\n",
       "      <td>40.80902</td>\n",
       "      <td>-73.94190</td>\n",
       "      <td>Private room</td>\n",
       "      <td>150</td>\n",
       "      <td>3</td>\n",
       "      <td>0</td>\n",
       "      <td>NaN</td>\n",
       "      <td>NaN</td>\n",
       "      <td>1</td>\n",
       "      <td>365</td>\n",
       "    </tr>\n",
       "    <tr>\n",
       "      <th>3</th>\n",
       "      <td>3831</td>\n",
       "      <td>Cozy Entire Floor of Brownstone</td>\n",
       "      <td>4869</td>\n",
       "      <td>LisaRoxanne</td>\n",
       "      <td>Brooklyn</td>\n",
       "      <td>Clinton Hill</td>\n",
       "      <td>40.68514</td>\n",
       "      <td>-73.95976</td>\n",
       "      <td>Entire home/apt</td>\n",
       "      <td>89</td>\n",
       "      <td>1</td>\n",
       "      <td>270</td>\n",
       "      <td>2019-07-05</td>\n",
       "      <td>4.64</td>\n",
       "      <td>1</td>\n",
       "      <td>194</td>\n",
       "    </tr>\n",
       "    <tr>\n",
       "      <th>4</th>\n",
       "      <td>5022</td>\n",
       "      <td>Entire Apt: Spacious Studio/Loft by central park</td>\n",
       "      <td>7192</td>\n",
       "      <td>Laura</td>\n",
       "      <td>Manhattan</td>\n",
       "      <td>East Harlem</td>\n",
       "      <td>40.79851</td>\n",
       "      <td>-73.94399</td>\n",
       "      <td>Entire home/apt</td>\n",
       "      <td>80</td>\n",
       "      <td>10</td>\n",
       "      <td>9</td>\n",
       "      <td>2018-11-19</td>\n",
       "      <td>0.10</td>\n",
       "      <td>1</td>\n",
       "      <td>0</td>\n",
       "    </tr>\n",
       "  </tbody>\n",
       "</table>\n",
       "</div>"
      ],
      "text/plain": [
       "     id                                              name  host_id  \\\n",
       "0  2539                Clean & quiet apt home by the park     2787   \n",
       "1  2595                             Skylit Midtown Castle     2845   \n",
       "2  3647               THE VILLAGE OF HARLEM....NEW YORK !     4632   \n",
       "3  3831                   Cozy Entire Floor of Brownstone     4869   \n",
       "4  5022  Entire Apt: Spacious Studio/Loft by central park     7192   \n",
       "\n",
       "     host_name neighbourhood_group neighbourhood  latitude  longitude  \\\n",
       "0         John            Brooklyn    Kensington  40.64749  -73.97237   \n",
       "1     Jennifer           Manhattan       Midtown  40.75362  -73.98377   \n",
       "2    Elisabeth           Manhattan        Harlem  40.80902  -73.94190   \n",
       "3  LisaRoxanne            Brooklyn  Clinton Hill  40.68514  -73.95976   \n",
       "4        Laura           Manhattan   East Harlem  40.79851  -73.94399   \n",
       "\n",
       "         room_type  price  minimum_nights  number_of_reviews last_review  \\\n",
       "0     Private room    149               1                  9  2018-10-19   \n",
       "1  Entire home/apt    225               1                 45  2019-05-21   \n",
       "2     Private room    150               3                  0         NaN   \n",
       "3  Entire home/apt     89               1                270  2019-07-05   \n",
       "4  Entire home/apt     80              10                  9  2018-11-19   \n",
       "\n",
       "   reviews_per_month  calculated_host_listings_count  availability_365  \n",
       "0               0.21                               6               365  \n",
       "1               0.38                               2               355  \n",
       "2                NaN                               1               365  \n",
       "3               4.64                               1               194  \n",
       "4               0.10                               1                 0  "
      ]
     },
     "execution_count": 6,
     "metadata": {},
     "output_type": "execute_result"
    }
   ],
   "source": [
    "# First five rows and columns\n",
    "\n",
    "nyc.head()"
   ]
  },
  {
   "cell_type": "code",
   "execution_count": 7,
   "id": "e7546097",
   "metadata": {},
   "outputs": [
    {
     "data": {
      "text/html": [
       "<div>\n",
       "<style scoped>\n",
       "    .dataframe tbody tr th:only-of-type {\n",
       "        vertical-align: middle;\n",
       "    }\n",
       "\n",
       "    .dataframe tbody tr th {\n",
       "        vertical-align: top;\n",
       "    }\n",
       "\n",
       "    .dataframe thead th {\n",
       "        text-align: right;\n",
       "    }\n",
       "</style>\n",
       "<table border=\"1\" class=\"dataframe\">\n",
       "  <thead>\n",
       "    <tr style=\"text-align: right;\">\n",
       "      <th></th>\n",
       "      <th>id</th>\n",
       "      <th>name</th>\n",
       "      <th>host_id</th>\n",
       "      <th>host_name</th>\n",
       "      <th>neighbourhood_group</th>\n",
       "      <th>neighbourhood</th>\n",
       "      <th>latitude</th>\n",
       "      <th>longitude</th>\n",
       "      <th>room_type</th>\n",
       "      <th>price</th>\n",
       "      <th>minimum_nights</th>\n",
       "      <th>number_of_reviews</th>\n",
       "      <th>last_review</th>\n",
       "      <th>reviews_per_month</th>\n",
       "      <th>calculated_host_listings_count</th>\n",
       "      <th>availability_365</th>\n",
       "    </tr>\n",
       "  </thead>\n",
       "  <tbody>\n",
       "    <tr>\n",
       "      <th>48890</th>\n",
       "      <td>36484665</td>\n",
       "      <td>Charming one bedroom - newly renovated rowhouse</td>\n",
       "      <td>8232441</td>\n",
       "      <td>Sabrina</td>\n",
       "      <td>Brooklyn</td>\n",
       "      <td>Bedford-Stuyvesant</td>\n",
       "      <td>40.67853</td>\n",
       "      <td>-73.94995</td>\n",
       "      <td>Private room</td>\n",
       "      <td>70</td>\n",
       "      <td>2</td>\n",
       "      <td>0</td>\n",
       "      <td>NaN</td>\n",
       "      <td>NaN</td>\n",
       "      <td>2</td>\n",
       "      <td>9</td>\n",
       "    </tr>\n",
       "    <tr>\n",
       "      <th>48891</th>\n",
       "      <td>36485057</td>\n",
       "      <td>Affordable room in Bushwick/East Williamsburg</td>\n",
       "      <td>6570630</td>\n",
       "      <td>Marisol</td>\n",
       "      <td>Brooklyn</td>\n",
       "      <td>Bushwick</td>\n",
       "      <td>40.70184</td>\n",
       "      <td>-73.93317</td>\n",
       "      <td>Private room</td>\n",
       "      <td>40</td>\n",
       "      <td>4</td>\n",
       "      <td>0</td>\n",
       "      <td>NaN</td>\n",
       "      <td>NaN</td>\n",
       "      <td>2</td>\n",
       "      <td>36</td>\n",
       "    </tr>\n",
       "    <tr>\n",
       "      <th>48892</th>\n",
       "      <td>36485431</td>\n",
       "      <td>Sunny Studio at Historical Neighborhood</td>\n",
       "      <td>23492952</td>\n",
       "      <td>Ilgar &amp; Aysel</td>\n",
       "      <td>Manhattan</td>\n",
       "      <td>Harlem</td>\n",
       "      <td>40.81475</td>\n",
       "      <td>-73.94867</td>\n",
       "      <td>Entire home/apt</td>\n",
       "      <td>115</td>\n",
       "      <td>10</td>\n",
       "      <td>0</td>\n",
       "      <td>NaN</td>\n",
       "      <td>NaN</td>\n",
       "      <td>1</td>\n",
       "      <td>27</td>\n",
       "    </tr>\n",
       "    <tr>\n",
       "      <th>48893</th>\n",
       "      <td>36485609</td>\n",
       "      <td>43rd St. Time Square-cozy single bed</td>\n",
       "      <td>30985759</td>\n",
       "      <td>Taz</td>\n",
       "      <td>Manhattan</td>\n",
       "      <td>Hell's Kitchen</td>\n",
       "      <td>40.75751</td>\n",
       "      <td>-73.99112</td>\n",
       "      <td>Shared room</td>\n",
       "      <td>55</td>\n",
       "      <td>1</td>\n",
       "      <td>0</td>\n",
       "      <td>NaN</td>\n",
       "      <td>NaN</td>\n",
       "      <td>6</td>\n",
       "      <td>2</td>\n",
       "    </tr>\n",
       "    <tr>\n",
       "      <th>48894</th>\n",
       "      <td>36487245</td>\n",
       "      <td>Trendy duplex in the very heart of Hell's Kitchen</td>\n",
       "      <td>68119814</td>\n",
       "      <td>Christophe</td>\n",
       "      <td>Manhattan</td>\n",
       "      <td>Hell's Kitchen</td>\n",
       "      <td>40.76404</td>\n",
       "      <td>-73.98933</td>\n",
       "      <td>Private room</td>\n",
       "      <td>90</td>\n",
       "      <td>7</td>\n",
       "      <td>0</td>\n",
       "      <td>NaN</td>\n",
       "      <td>NaN</td>\n",
       "      <td>1</td>\n",
       "      <td>23</td>\n",
       "    </tr>\n",
       "  </tbody>\n",
       "</table>\n",
       "</div>"
      ],
      "text/plain": [
       "             id                                               name   host_id  \\\n",
       "48890  36484665    Charming one bedroom - newly renovated rowhouse   8232441   \n",
       "48891  36485057      Affordable room in Bushwick/East Williamsburg   6570630   \n",
       "48892  36485431            Sunny Studio at Historical Neighborhood  23492952   \n",
       "48893  36485609               43rd St. Time Square-cozy single bed  30985759   \n",
       "48894  36487245  Trendy duplex in the very heart of Hell's Kitchen  68119814   \n",
       "\n",
       "           host_name neighbourhood_group       neighbourhood  latitude  \\\n",
       "48890        Sabrina            Brooklyn  Bedford-Stuyvesant  40.67853   \n",
       "48891        Marisol            Brooklyn            Bushwick  40.70184   \n",
       "48892  Ilgar & Aysel           Manhattan              Harlem  40.81475   \n",
       "48893            Taz           Manhattan      Hell's Kitchen  40.75751   \n",
       "48894     Christophe           Manhattan      Hell's Kitchen  40.76404   \n",
       "\n",
       "       longitude        room_type  price  minimum_nights  number_of_reviews  \\\n",
       "48890  -73.94995     Private room     70               2                  0   \n",
       "48891  -73.93317     Private room     40               4                  0   \n",
       "48892  -73.94867  Entire home/apt    115              10                  0   \n",
       "48893  -73.99112      Shared room     55               1                  0   \n",
       "48894  -73.98933     Private room     90               7                  0   \n",
       "\n",
       "      last_review  reviews_per_month  calculated_host_listings_count  \\\n",
       "48890         NaN                NaN                               2   \n",
       "48891         NaN                NaN                               2   \n",
       "48892         NaN                NaN                               1   \n",
       "48893         NaN                NaN                               6   \n",
       "48894         NaN                NaN                               1   \n",
       "\n",
       "       availability_365  \n",
       "48890                 9  \n",
       "48891                36  \n",
       "48892                27  \n",
       "48893                 2  \n",
       "48894                23  "
      ]
     },
     "execution_count": 7,
     "metadata": {},
     "output_type": "execute_result"
    }
   ],
   "source": [
    "# Lastt five rows and columns\n",
    "\n",
    "nyc.tail()"
   ]
  },
  {
   "cell_type": "markdown",
   "id": "2464031f",
   "metadata": {},
   "source": [
    "## 1. Data Integrity"
   ]
  },
  {
   "cell_type": "code",
   "execution_count": 8,
   "id": "885e2586",
   "metadata": {},
   "outputs": [],
   "source": [
    "# Check for valid latitude and longitude ranges\n",
    "\n",
    "valide_latitude = nyc[(nyc['latitude']>=-90)&(nyc['latitude']<=90)]\n",
    "valide_longitude = nyc[(nyc['longitude']>=-180)&(nyc['longitude']<=180)]"
   ]
  },
  {
   "cell_type": "code",
   "execution_count": 9,
   "id": "4cf241a4",
   "metadata": {},
   "outputs": [
    {
     "data": {
      "text/plain": [
       "array(['Private room', 'Entire home/apt', 'Shared room'], dtype=object)"
      ]
     },
     "execution_count": 9,
     "metadata": {},
     "output_type": "execute_result"
    }
   ],
   "source": [
    "# Verify consistency of categorical variables\n",
    "\n",
    "room_types = nyc['room_type'].unique()\n",
    "room_types"
   ]
  },
  {
   "cell_type": "code",
   "execution_count": 10,
   "id": "72f97118",
   "metadata": {},
   "outputs": [
    {
     "data": {
      "text/plain": [
       "array(['Brooklyn', 'Manhattan', 'Queens', 'Staten Island', 'Bronx'],\n",
       "      dtype=object)"
      ]
     },
     "execution_count": 10,
     "metadata": {},
     "output_type": "execute_result"
    }
   ],
   "source": [
    "neighbourhood_groups = nyc['neighbourhood_group'].unique()\n",
    "neighbourhood_groups"
   ]
  },
  {
   "cell_type": "code",
   "execution_count": 11,
   "id": "f52b839f",
   "metadata": {},
   "outputs": [
    {
     "data": {
      "text/plain": [
       "array(['Kensington', 'Midtown', 'Harlem', 'Clinton Hill', 'East Harlem',\n",
       "       'Murray Hill', 'Bedford-Stuyvesant', \"Hell's Kitchen\",\n",
       "       'Upper West Side', 'Chinatown', 'South Slope', 'West Village',\n",
       "       'Williamsburg', 'Fort Greene', 'Chelsea', 'Crown Heights',\n",
       "       'Park Slope', 'Windsor Terrace', 'Inwood', 'East Village',\n",
       "       'Greenpoint', 'Bushwick', 'Flatbush', 'Lower East Side',\n",
       "       'Prospect-Lefferts Gardens', 'Long Island City', 'Kips Bay',\n",
       "       'SoHo', 'Upper East Side', 'Prospect Heights',\n",
       "       'Washington Heights', 'Woodside', 'Brooklyn Heights',\n",
       "       'Carroll Gardens', 'Gowanus', 'Flatlands', 'Cobble Hill',\n",
       "       'Flushing', 'Boerum Hill', 'Sunnyside', 'DUMBO', 'St. George',\n",
       "       'Highbridge', 'Financial District', 'Ridgewood',\n",
       "       'Morningside Heights', 'Jamaica', 'Middle Village', 'NoHo',\n",
       "       'Ditmars Steinway', 'Flatiron District', 'Roosevelt Island',\n",
       "       'Greenwich Village', 'Little Italy', 'East Flatbush',\n",
       "       'Tompkinsville', 'Astoria', 'Clason Point', 'Eastchester',\n",
       "       'Kingsbridge', 'Two Bridges', 'Queens Village', 'Rockaway Beach',\n",
       "       'Forest Hills', 'Nolita', 'Woodlawn', 'University Heights',\n",
       "       'Gravesend', 'Gramercy', 'Allerton', 'East New York',\n",
       "       'Theater District', 'Concourse Village', 'Sheepshead Bay',\n",
       "       'Emerson Hill', 'Fort Hamilton', 'Bensonhurst', 'Tribeca',\n",
       "       'Shore Acres', 'Sunset Park', 'Concourse', 'Elmhurst',\n",
       "       'Brighton Beach', 'Jackson Heights', 'Cypress Hills', 'St. Albans',\n",
       "       'Arrochar', 'Rego Park', 'Wakefield', 'Clifton', 'Bay Ridge',\n",
       "       'Graniteville', 'Spuyten Duyvil', 'Stapleton', 'Briarwood',\n",
       "       'Ozone Park', 'Columbia St', 'Vinegar Hill', 'Mott Haven',\n",
       "       'Longwood', 'Canarsie', 'Battery Park City', 'Civic Center',\n",
       "       'East Elmhurst', 'New Springville', 'Morris Heights', 'Arverne',\n",
       "       'Cambria Heights', 'Tottenville', 'Mariners Harbor', 'Concord',\n",
       "       'Borough Park', 'Bayside', 'Downtown Brooklyn', 'Port Morris',\n",
       "       'Fieldston', 'Kew Gardens', 'Midwood', 'College Point',\n",
       "       'Mount Eden', 'City Island', 'Glendale', 'Port Richmond',\n",
       "       'Red Hook', 'Richmond Hill', 'Bellerose', 'Maspeth',\n",
       "       'Williamsbridge', 'Soundview', 'Woodhaven', 'Woodrow',\n",
       "       'Co-op City', 'Stuyvesant Town', 'Parkchester', 'North Riverdale',\n",
       "       'Dyker Heights', 'Bronxdale', 'Sea Gate', 'Riverdale',\n",
       "       'Kew Gardens Hills', 'Bay Terrace', 'Norwood', 'Claremont Village',\n",
       "       'Whitestone', 'Fordham', 'Bayswater', 'Navy Yard', 'Brownsville',\n",
       "       'Eltingville', 'Fresh Meadows', 'Mount Hope', 'Lighthouse Hill',\n",
       "       'Springfield Gardens', 'Howard Beach', 'Belle Harbor',\n",
       "       'Jamaica Estates', 'Van Nest', 'Morris Park', 'West Brighton',\n",
       "       'Far Rockaway', 'South Ozone Park', 'Tremont', 'Corona',\n",
       "       'Great Kills', 'Manhattan Beach', 'Marble Hill', 'Dongan Hills',\n",
       "       'Castleton Corners', 'East Morrisania', 'Hunts Point', 'Neponsit',\n",
       "       'Pelham Bay', 'Randall Manor', 'Throgs Neck', 'Todt Hill',\n",
       "       'West Farms', 'Silver Lake', 'Morrisania', 'Laurelton',\n",
       "       'Grymes Hill', 'Holliswood', 'Pelham Gardens', 'Belmont',\n",
       "       'Rosedale', 'Edgemere', 'New Brighton', 'Midland Beach',\n",
       "       'Baychester', 'Melrose', 'Bergen Beach', 'Richmondtown',\n",
       "       'Howland Hook', 'Schuylerville', 'Coney Island', 'New Dorp Beach',\n",
       "       \"Prince's Bay\", 'South Beach', 'Bath Beach', 'Jamaica Hills',\n",
       "       'Oakwood', 'Castle Hill', 'Hollis', 'Douglaston', 'Huguenot',\n",
       "       'Olinville', 'Edenwald', 'Grant City', 'Westerleigh',\n",
       "       'Bay Terrace, Staten Island', 'Westchester Square', 'Little Neck',\n",
       "       'Fort Wadsworth', 'Rosebank', 'Unionport', 'Mill Basin',\n",
       "       'Arden Heights', \"Bull's Head\", 'New Dorp', 'Rossville',\n",
       "       'Breezy Point', 'Willowbrook'], dtype=object)"
      ]
     },
     "execution_count": 11,
     "metadata": {},
     "output_type": "execute_result"
    }
   ],
   "source": [
    "neighbourhoods = nyc['neighbourhood'].unique()\n",
    "neighbourhoods"
   ]
  },
  {
   "cell_type": "markdown",
   "id": "b313b6a5",
   "metadata": {},
   "source": [
    "## 2. Missing Data Handling"
   ]
  },
  {
   "cell_type": "code",
   "execution_count": 12,
   "id": "e8125246",
   "metadata": {},
   "outputs": [
    {
     "data": {
      "text/plain": [
       "id                                    0\n",
       "name                                 16\n",
       "host_id                               0\n",
       "host_name                            21\n",
       "neighbourhood_group                   0\n",
       "neighbourhood                         0\n",
       "latitude                              0\n",
       "longitude                             0\n",
       "room_type                             0\n",
       "price                                 0\n",
       "minimum_nights                        0\n",
       "number_of_reviews                     0\n",
       "last_review                       10052\n",
       "reviews_per_month                 10052\n",
       "calculated_host_listings_count        0\n",
       "availability_365                      0\n",
       "dtype: int64"
      ]
     },
     "execution_count": 12,
     "metadata": {},
     "output_type": "execute_result"
    }
   ],
   "source": [
    "# Checking null values in dataframe\n",
    "\n",
    "nyc.isnull().sum()"
   ]
  },
  {
   "cell_type": "code",
   "execution_count": 13,
   "id": "3081dc9e",
   "metadata": {},
   "outputs": [],
   "source": [
    "# Droping null vlaues\n",
    "\n",
    "nyc.dropna(subset=['name'],inplace=True)\n",
    "nyc.dropna(subset=['host_name'],inplace=True)\n"
   ]
  },
  {
   "cell_type": "code",
   "execution_count": 14,
   "id": "a7c44fc3",
   "metadata": {},
   "outputs": [
    {
     "data": {
      "text/plain": [
       "id                                    0\n",
       "name                                  0\n",
       "host_id                               0\n",
       "host_name                             0\n",
       "neighbourhood_group                   0\n",
       "neighbourhood                         0\n",
       "latitude                              0\n",
       "longitude                             0\n",
       "room_type                             0\n",
       "price                                 0\n",
       "minimum_nights                        0\n",
       "number_of_reviews                     0\n",
       "last_review                       10037\n",
       "reviews_per_month                 10037\n",
       "calculated_host_listings_count        0\n",
       "availability_365                      0\n",
       "dtype: int64"
      ]
     },
     "execution_count": 14,
     "metadata": {},
     "output_type": "execute_result"
    }
   ],
   "source": [
    "nyc.isnull().sum()"
   ]
  },
  {
   "cell_type": "code",
   "execution_count": 15,
   "id": "df96efe1",
   "metadata": {},
   "outputs": [
    {
     "name": "stdout",
     "output_type": "stream",
     "text": [
      "mean_reviews_per_month\n"
     ]
    }
   ],
   "source": [
    "# Mean imputation for 'reviews_per_month'\n",
    "\n",
    "mean_reviews_per_month = nyc['reviews_per_month'].mean()\n",
    "print('mean_reviews_per_month')"
   ]
  },
  {
   "cell_type": "code",
   "execution_count": 16,
   "id": "3e68ba9a",
   "metadata": {},
   "outputs": [
    {
     "data": {
      "text/plain": [
       "0"
      ]
     },
     "execution_count": 16,
     "metadata": {},
     "output_type": "execute_result"
    }
   ],
   "source": [
    "#filling null values in reviews_per_month column\n",
    "\n",
    "nyc['reviews_per_month'].fillna(mean_reviews_per_month,inplace = True )\n",
    "nyc.reviews_per_month.isnull().sum()"
   ]
  },
  {
   "cell_type": "code",
   "execution_count": 17,
   "id": "3243869b",
   "metadata": {},
   "outputs": [
    {
     "data": {
      "text/plain": [
       "0"
      ]
     },
     "execution_count": 17,
     "metadata": {},
     "output_type": "execute_result"
    }
   ],
   "source": [
    "# filling null values using forward fill for 'last_review'\n",
    "\n",
    "nyc['last_review'].fillna(method='ffill',inplace = True)\n",
    "nyc.last_review.isnull().sum()"
   ]
  },
  {
   "cell_type": "markdown",
   "id": "239d96bb",
   "metadata": {},
   "source": [
    "## 3. Duplicate Removal"
   ]
  },
  {
   "cell_type": "code",
   "execution_count": 18,
   "id": "48f97eff",
   "metadata": {},
   "outputs": [
    {
     "data": {
      "text/plain": [
       "0"
      ]
     },
     "execution_count": 18,
     "metadata": {},
     "output_type": "execute_result"
    }
   ],
   "source": [
    "# Identify duplicate rows\n",
    "\n",
    "duplicate_mask = nyc.duplicated()\n",
    "\n",
    "duplicate_mask.sum()"
   ]
  },
  {
   "cell_type": "code",
   "execution_count": 19,
   "id": "91bca649",
   "metadata": {},
   "outputs": [
    {
     "data": {
      "text/plain": [
       "id                                0.0\n",
       "name                              0.0\n",
       "host_id                           0.0\n",
       "host_name                         0.0\n",
       "neighbourhood_group               0.0\n",
       "neighbourhood                     0.0\n",
       "latitude                          0.0\n",
       "longitude                         0.0\n",
       "room_type                         0.0\n",
       "price                             0.0\n",
       "minimum_nights                    0.0\n",
       "number_of_reviews                 0.0\n",
       "last_review                       0.0\n",
       "reviews_per_month                 0.0\n",
       "calculated_host_listings_count    0.0\n",
       "availability_365                  0.0\n",
       "dtype: float64"
      ]
     },
     "execution_count": 19,
     "metadata": {},
     "output_type": "execute_result"
    }
   ],
   "source": [
    "# Filter out the duplicate rows\n",
    "\n",
    "duplicate_rows = nyc[duplicate_mask]\n",
    "\n",
    "duplicate_rows.sum()"
   ]
  },
  {
   "cell_type": "code",
   "execution_count": 20,
   "id": "41ae16a9",
   "metadata": {},
   "outputs": [
    {
     "name": "stdout",
     "output_type": "stream",
     "text": [
      "Number of duplicates: 0\n"
     ]
    }
   ],
   "source": [
    "num_duplicates = duplicate_mask.sum()\n",
    "print(\"Number of duplicates:\", num_duplicates)"
   ]
  },
  {
   "cell_type": "code",
   "execution_count": 21,
   "id": "9eec2f21",
   "metadata": {},
   "outputs": [
    {
     "name": "stdout",
     "output_type": "stream",
     "text": [
      "Shape of DataFrame after removing duplicates: (48858, 16)\n"
     ]
    }
   ],
   "source": [
    "# Identify and remove duplicate records\n",
    "\n",
    "nyc.drop_duplicates(inplace=True)\n",
    "\n",
    "print(\"Shape of DataFrame after removing duplicates:\", nyc.shape)"
   ]
  },
  {
   "cell_type": "markdown",
   "id": "a1adb09d",
   "metadata": {},
   "source": [
    "## 4.Standardization"
   ]
  },
  {
   "cell_type": "markdown",
   "id": "46406ce7",
   "metadata": {},
   "source": [
    "Consistent Formatting"
   ]
  },
  {
   "cell_type": "code",
   "execution_count": 22,
   "id": "10044682",
   "metadata": {},
   "outputs": [
    {
     "data": {
      "text/plain": [
       "Index(['Id', 'Name', 'Host_id', 'Host_name', 'Neighbourhood_group',\n",
       "       'Neighbourhood', 'Latitude', 'Longitude', 'Room_type', 'Price',\n",
       "       'Minimum_nights', 'Number_of_reviews', 'Last_review',\n",
       "       'Reviews_per_month', 'Calculated_host_listings_count',\n",
       "       'Availability_365'],\n",
       "      dtype='object')"
      ]
     },
     "execution_count": 22,
     "metadata": {},
     "output_type": "execute_result"
    }
   ],
   "source": [
    "# Convert column names to uppercase\n",
    "\n",
    "nyc.rename(columns=lambda x: x.capitalize(),inplace = True)\n",
    "nyc.columns"
   ]
  },
  {
   "cell_type": "code",
   "execution_count": 23,
   "id": "37c58e8a",
   "metadata": {},
   "outputs": [
    {
     "name": "stdout",
     "output_type": "stream",
     "text": [
      "Data Types Before Standardization:\n",
      "Id                                  int64\n",
      "Name                               object\n",
      "Host_id                             int64\n",
      "Host_name                          object\n",
      "Neighbourhood_group                object\n",
      "Neighbourhood                      object\n",
      "Latitude                          float64\n",
      "Longitude                         float64\n",
      "Room_type                          object\n",
      "Price                               int64\n",
      "Minimum_nights                      int64\n",
      "Number_of_reviews                   int64\n",
      "Last_review                        object\n",
      "Reviews_per_month                 float64\n",
      "Calculated_host_listings_count      int64\n",
      "Availability_365                    int64\n",
      "dtype: object\n"
     ]
    }
   ],
   "source": [
    "# Check data types\n",
    "\n",
    "print(\"Data Types Before Standardization:\")\n",
    "print(nyc.dtypes)"
   ]
  },
  {
   "cell_type": "code",
   "execution_count": 24,
   "id": "371133ce",
   "metadata": {},
   "outputs": [
    {
     "name": "stdout",
     "output_type": "stream",
     "text": [
      "Data type of 'Last_review' column: datetime64[ns]\n"
     ]
    }
   ],
   "source": [
    "# Convert 'LAST_REVIEW' column to datetime format\n",
    "\n",
    "nyc['Last_review'] = pd.to_datetime(nyc['Last_review'])\n",
    "\n",
    "print(\"Data type of 'Last_review' column:\", nyc['Last_review'].dtype)"
   ]
  },
  {
   "cell_type": "code",
   "execution_count": 25,
   "id": "d12d1bd7",
   "metadata": {},
   "outputs": [],
   "source": [
    "import warnings\n",
    "warnings.filterwarnings('ignore')"
   ]
  },
  {
   "cell_type": "code",
   "execution_count": 26,
   "id": "967bd728",
   "metadata": {},
   "outputs": [
    {
     "name": "stdout",
     "output_type": "stream",
     "text": [
      "0        19/10/2018\n",
      "1        21/05/2019\n",
      "2        21/05/2019\n",
      "3        05/07/2019\n",
      "4        19/11/2018\n",
      "            ...    \n",
      "48890    08/07/2019\n",
      "48891    08/07/2019\n",
      "48892    08/07/2019\n",
      "48893    08/07/2019\n",
      "48894    08/07/2019\n",
      "Name: Last_review, Length: 48858, dtype: object\n"
     ]
    }
   ],
   "source": [
    "# Convert date format YYYY-MM-DD to DD/MM/YYYY\n",
    "\n",
    "\n",
    "nyc['Last_review'] = pd.to_datetime(nyc['Last_review']).dt.strftime('%d/%m/%Y')\n",
    "\n",
    "print(nyc['Last_review'])"
   ]
  },
  {
   "cell_type": "code",
   "execution_count": 27,
   "id": "048d98af",
   "metadata": {},
   "outputs": [
    {
     "name": "stdout",
     "output_type": "stream",
     "text": [
      "0        126.65\n",
      "1        191.25\n",
      "2        127.50\n",
      "3         75.65\n",
      "4         68.00\n",
      "          ...  \n",
      "48890     59.50\n",
      "48891     34.00\n",
      "48892     97.75\n",
      "48893     46.75\n",
      "48894     76.50\n",
      "Name: Price, Length: 48858, dtype: float64\n"
     ]
    }
   ],
   "source": [
    "# converting to EUR using an assumed conversion rate of 1 USD = 0.85 EUR\n",
    "\n",
    "nyc['Price'] = nyc['Price'] * 0.85\n",
    "print(nyc['Price'])"
   ]
  },
  {
   "cell_type": "markdown",
   "id": "e1f0ccd1",
   "metadata": {},
   "source": [
    "## 5. Outlier Detection"
   ]
  },
  {
   "cell_type": "code",
   "execution_count": 28,
   "id": "2cffc90c",
   "metadata": {},
   "outputs": [
    {
     "name": "stdout",
     "output_type": "stream",
     "text": [
      "Identified Outliers:\n",
      "             Id                                               Name    Host_id  \\\n",
      "496      174966              Luxury 2Bed/2.5Bath Central Park View     836168   \n",
      "762      273190          6 Bedroom Landmark West Village Townhouse     605463   \n",
      "946      363673                   Beautiful 3 bedroom in Manhattan     256239   \n",
      "1105     468613   $ (Phone number hidden by Airbnb) weeks - room f    2325861   \n",
      "1414     634353                Luxury 1Bed with Central Park Views     836168   \n",
      "...         ...                                                ...        ...   \n",
      "48301  36186719           Private Bedroom in the Heart of Chelsea!  268920555   \n",
      "48304  36189195      Next to Times Square/Javits/MSG! Amazing 1BR!  270214015   \n",
      "48305  36189257             2BR Near Museum Mile! Upper East Side!  272166348   \n",
      "48523  36308562  Tasteful & Trendy Brooklyn Brownstone, near Train  217732163   \n",
      "48535  36311055     Stunning & Stylish Brooklyn Luxury, near Train  245712163   \n",
      "\n",
      "           Host_name Neighbourhood_group       Neighbourhood  Latitude  \\\n",
      "496            Henry           Manhattan     Upper West Side  40.77350   \n",
      "762     West Village           Manhattan        West Village  40.73301   \n",
      "946           Tracey           Manhattan     Upper West Side  40.80142   \n",
      "1105         Cynthia           Manhattan     Lower East Side  40.72152   \n",
      "1414           Henry           Manhattan     Upper West Side  40.77428   \n",
      "...              ...                 ...                 ...       ...   \n",
      "48301  Terrence Jake           Manhattan             Chelsea  40.74531   \n",
      "48304        Rogelio           Manhattan      Hell's Kitchen  40.75533   \n",
      "48305    Mary Rotsen           Manhattan     Upper East Side  40.78132   \n",
      "48523          Sandy            Brooklyn  Bedford-Stuyvesant  40.68767   \n",
      "48535        Urvashi            Brooklyn  Bedford-Stuyvesant  40.68245   \n",
      "\n",
      "       Longitude        Room_type    Price  Minimum_nights  Number_of_reviews  \\\n",
      "496    -73.98697  Entire home/apt  1700.00              30                 30   \n",
      "762    -74.00268  Entire home/apt  1105.00               5                 28   \n",
      "946    -73.96931     Private room  2550.00               7                  0   \n",
      "1105   -73.99279     Private room  1105.00               1                  0   \n",
      "1414   -73.98594  Entire home/apt   850.00              30                 44   \n",
      "...          ...              ...      ...             ...                ...   \n",
      "48301  -73.99454     Private room   849.15              30                  0   \n",
      "48304  -73.99866  Entire home/apt  2549.15              30                  0   \n",
      "48305  -73.95262  Entire home/apt  1699.15              30                  0   \n",
      "48523  -73.95805  Entire home/apt  1163.65               1                  0   \n",
      "48535  -73.93417  Entire home/apt  1486.65               1                  0   \n",
      "\n",
      "      Last_review  Reviews_per_month  Calculated_host_listings_count  \\\n",
      "496    05/05/2018           0.330000                              11   \n",
      "762    25/09/2018           0.310000                               4   \n",
      "946    30/07/2018           1.373229                               1   \n",
      "1105   05/07/2019           1.373229                               1   \n",
      "1414   28/09/2015           0.530000                              11   \n",
      "...           ...                ...                             ...   \n",
      "48301  07/07/2019           1.373229                               1   \n",
      "48304  07/07/2019           1.373229                               1   \n",
      "48305  07/07/2019           1.373229                               1   \n",
      "48523  07/07/2019           1.373229                               1   \n",
      "48535  06/07/2019           1.373229                               1   \n",
      "\n",
      "       Availability_365  \n",
      "496                   0  \n",
      "762                 297  \n",
      "946                 365  \n",
      "1105                  0  \n",
      "1414                364  \n",
      "...                 ...  \n",
      "48301               270  \n",
      "48304               222  \n",
      "48305               270  \n",
      "48523               349  \n",
      "48535               303  \n",
      "\n",
      "[388 rows x 16 columns]\n"
     ]
    }
   ],
   "source": [
    "# Identify outliers using Z-score method\n",
    "\n",
    "z_scores = stats.zscore(nyc['Price'])  \n",
    "\n",
    "threshold = 3  # Threshold for identifying outliers (can be adjusted based on the dataset)\n",
    "outlier_indices = (z_scores > threshold) | (z_scores < -threshold)\n",
    "outliers = nyc[outlier_indices]\n",
    "\n",
    "print(\"Identified Outliers:\")\n",
    "print(outliers)\n"
   ]
  },
  {
   "cell_type": "code",
   "execution_count": 29,
   "id": "1f2a04a4",
   "metadata": {},
   "outputs": [
    {
     "name": "stdout",
     "output_type": "stream",
     "text": [
      "Identified Outliers:\n",
      "             Id                                               Name    Host_id  \\\n",
      "496      174966              Luxury 2Bed/2.5Bath Central Park View     836168   \n",
      "762      273190          6 Bedroom Landmark West Village Townhouse     605463   \n",
      "946      363673                   Beautiful 3 bedroom in Manhattan     256239   \n",
      "1105     468613   $ (Phone number hidden by Airbnb) weeks - room f    2325861   \n",
      "1414     634353                Luxury 1Bed with Central Park Views     836168   \n",
      "...         ...                                                ...        ...   \n",
      "48301  36186719           Private Bedroom in the Heart of Chelsea!  268920555   \n",
      "48304  36189195      Next to Times Square/Javits/MSG! Amazing 1BR!  270214015   \n",
      "48305  36189257             2BR Near Museum Mile! Upper East Side!  272166348   \n",
      "48523  36308562  Tasteful & Trendy Brooklyn Brownstone, near Train  217732163   \n",
      "48535  36311055     Stunning & Stylish Brooklyn Luxury, near Train  245712163   \n",
      "\n",
      "           Host_name Neighbourhood_group       Neighbourhood  Latitude  \\\n",
      "496            Henry           Manhattan     Upper West Side  40.77350   \n",
      "762     West Village           Manhattan        West Village  40.73301   \n",
      "946           Tracey           Manhattan     Upper West Side  40.80142   \n",
      "1105         Cynthia           Manhattan     Lower East Side  40.72152   \n",
      "1414           Henry           Manhattan     Upper West Side  40.77428   \n",
      "...              ...                 ...                 ...       ...   \n",
      "48301  Terrence Jake           Manhattan             Chelsea  40.74531   \n",
      "48304        Rogelio           Manhattan      Hell's Kitchen  40.75533   \n",
      "48305    Mary Rotsen           Manhattan     Upper East Side  40.78132   \n",
      "48523          Sandy            Brooklyn  Bedford-Stuyvesant  40.68767   \n",
      "48535        Urvashi            Brooklyn  Bedford-Stuyvesant  40.68245   \n",
      "\n",
      "       Longitude        Room_type    Price  Minimum_nights  Number_of_reviews  \\\n",
      "496    -73.98697  Entire home/apt  1700.00              30                 30   \n",
      "762    -74.00268  Entire home/apt  1105.00               5                 28   \n",
      "946    -73.96931     Private room  2550.00               7                  0   \n",
      "1105   -73.99279     Private room  1105.00               1                  0   \n",
      "1414   -73.98594  Entire home/apt   850.00              30                 44   \n",
      "...          ...              ...      ...             ...                ...   \n",
      "48301  -73.99454     Private room   849.15              30                  0   \n",
      "48304  -73.99866  Entire home/apt  2549.15              30                  0   \n",
      "48305  -73.95262  Entire home/apt  1699.15              30                  0   \n",
      "48523  -73.95805  Entire home/apt  1163.65               1                  0   \n",
      "48535  -73.93417  Entire home/apt  1486.65               1                  0   \n",
      "\n",
      "      Last_review  Reviews_per_month  Calculated_host_listings_count  \\\n",
      "496    05/05/2018           0.330000                              11   \n",
      "762    25/09/2018           0.310000                               4   \n",
      "946    30/07/2018           1.373229                               1   \n",
      "1105   05/07/2019           1.373229                               1   \n",
      "1414   28/09/2015           0.530000                              11   \n",
      "...           ...                ...                             ...   \n",
      "48301  07/07/2019           1.373229                               1   \n",
      "48304  07/07/2019           1.373229                               1   \n",
      "48305  07/07/2019           1.373229                               1   \n",
      "48523  07/07/2019           1.373229                               1   \n",
      "48535  06/07/2019           1.373229                               1   \n",
      "\n",
      "       Availability_365  \n",
      "496                   0  \n",
      "762                 297  \n",
      "946                 365  \n",
      "1105                  0  \n",
      "1414                364  \n",
      "...                 ...  \n",
      "48301               270  \n",
      "48304               222  \n",
      "48305               270  \n",
      "48523               349  \n",
      "48535               303  \n",
      "\n",
      "[388 rows x 16 columns]\n"
     ]
    }
   ],
   "source": [
    "print(\"Identified Outliers:\")\n",
    "print(outliers)"
   ]
  },
  {
   "cell_type": "code",
   "execution_count": 30,
   "id": "216f69ea",
   "metadata": {},
   "outputs": [
    {
     "name": "stdout",
     "output_type": "stream",
     "text": [
      "Outliers:\n",
      "             Id                                               Name    Host_id  \\\n",
      "433      149777  Artsy 1 bedroom Apt. 20 min to 42nd Grand Cent...     716306   \n",
      "737      267535                  Home Away From Home-Room in Bronx    1402951   \n",
      "1424     639199    Beautiful 4BR/4BA Home, Staten Island, NY City.    1483081   \n",
      "3049    1798271                      Spacious center hall colonial    9430973   \n",
      "3349    2008227                     Private Studio in Private Home    9539641   \n",
      "...         ...                                                ...        ...   \n",
      "48029  36040561                                Nice room to rent 1  230720704   \n",
      "48033  36041232          Nice house room 2 near van cortlandt park  230720704   \n",
      "48154  36109691           Modern and Beautiful Riverdale Apartment  118853924   \n",
      "48441  36267546                              A Home Away From Home  233485864   \n",
      "48799  36438336                                    Seas The Moment  211644523   \n",
      "\n",
      "                     Host_name Neighbourhood_group    Neighbourhood  Latitude  \\\n",
      "433    Dee, Dre & Mama Shelley               Bronx         Woodlawn  40.89747   \n",
      "737                      Clara               Bronx        Wakefield  40.89557   \n",
      "1424                    Marina       Staten Island      Tottenville  40.50868   \n",
      "3049                     Donna       Staten Island          Woodrow  40.53884   \n",
      "3349                    Dianne               Bronx  North Riverdale  40.90804   \n",
      "...                        ...                 ...              ...       ...   \n",
      "48029                       Pp               Bronx  North Riverdale  40.91306   \n",
      "48033                       Pp               Bronx  North Riverdale  40.91167   \n",
      "48154                    Sayar               Bronx  North Riverdale  40.90527   \n",
      "48441                  Jeannie       Staten Island   New Dorp Beach  40.56506   \n",
      "48799                      Ben       Staten Island      Great Kills  40.54179   \n",
      "\n",
      "       Longitude        Room_type   Price  Minimum_nights  Number_of_reviews  \\\n",
      "433    -73.86390  Entire home/apt   65.45               1                197   \n",
      "737    -73.84470     Private room   42.50               2                 15   \n",
      "1424   -74.23986  Entire home/apt  254.15               3                 59   \n",
      "3049   -74.19826  Entire home/apt  595.00               7                  0   \n",
      "3349   -73.90005     Private room   45.05               2                143   \n",
      "...          ...              ...     ...             ...                ...   \n",
      "48029  -73.89389     Private room   34.00               1                  1   \n",
      "48033  -73.89566     Private room   34.00               1                  1   \n",
      "48154  -73.89707  Entire home/apt  127.50              30                  0   \n",
      "48441  -74.10240     Private room   34.00               1                  0   \n",
      "48799  -74.14275     Private room  199.75               1                  1   \n",
      "\n",
      "      Last_review  Reviews_per_month  Calculated_host_listings_count  \\\n",
      "433    23/06/2019           2.490000                               1   \n",
      "737    09/06/2019           0.170000                               1   \n",
      "1424   08/07/2019           0.820000                               1   \n",
      "3049   05/09/2016           1.373229                               1   \n",
      "3349   30/06/2019           2.130000                               1   \n",
      "...           ...                ...                             ...   \n",
      "48029  06/07/2019           1.000000                               3   \n",
      "48033  06/07/2019           1.000000                               3   \n",
      "48154  28/06/2019           1.373229                               1   \n",
      "48441  03/07/2019           1.373229                               2   \n",
      "48799  07/07/2019           1.000000                               1   \n",
      "\n",
      "       Availability_365  \n",
      "433                 309  \n",
      "737                 337  \n",
      "1424                245  \n",
      "3049                  0  \n",
      "3349                263  \n",
      "...                 ...  \n",
      "48029               175  \n",
      "48033               174  \n",
      "48154                89  \n",
      "48441               341  \n",
      "48799                87  \n",
      "\n",
      "[99 rows x 16 columns]\n"
     ]
    }
   ],
   "source": [
    "# Identify outliers \n",
    "\n",
    "z_scores = stats.zscore(nyc['Latitude'])\n",
    "\n",
    "threshold = 3  \n",
    "outlier_indices = (z_scores > threshold) | (z_scores < -threshold)\n",
    "outliers = nyc[outlier_indices]\n",
    "\n",
    "print(\"Outliers:\")\n",
    "print(outliers)"
   ]
  },
  {
   "cell_type": "code",
   "execution_count": 31,
   "id": "fefe59b9",
   "metadata": {},
   "outputs": [
    {
     "name": "stdout",
     "output_type": "stream",
     "text": [
      "Outliers:\n",
      "             Id                                               Name    Host_id  \\\n",
      "196       51850                              ( F) Excellent/Pvt Rm      27848   \n",
      "367      105469                   Oceanfront Apartment in Rockaway     547386   \n",
      "571      214917                 New Clean Spacious Bed & Breakfast    1109658   \n",
      "698      258686                               My Home Is Your Home    1233267   \n",
      "957      375249                    Enjoy Staten Island Hospitality    1887999   \n",
      "...         ...                                                ...        ...   \n",
      "48791  36427922                                Home away from home  238163900   \n",
      "48799  36438336                                    Seas The Moment  211644523   \n",
      "48813  36446225  2 bedroom apt, 10 mins from JFK, Subway, & Beach!  115751294   \n",
      "48819  36448215                              Welcome to Quite Cozy  274040642   \n",
      "48889  36484363                                 QUIT PRIVATE HOUSE  107716952   \n",
      "\n",
      "         Host_name Neighbourhood_group    Neighbourhood  Latitude  Longitude  \\\n",
      "196        Jullett              Queens          Jamaica  40.67252  -73.76597   \n",
      "367       Michelle              Queens   Rockaway Beach  40.58615  -73.81245   \n",
      "571         Carmel       Staten Island     Emerson Hill  40.60742  -74.14388   \n",
      "698            Kim              Queens       St. Albans  40.70554  -73.76637   \n",
      "957    Rimma & Jim       Staten Island     Graniteville  40.62109  -74.16534   \n",
      "...            ...                 ...              ...       ...        ...   \n",
      "48791         Lucy              Queens  Cambria Heights  40.68557  -73.72731   \n",
      "48799          Ben       Staten Island      Great Kills  40.54179  -74.14275   \n",
      "48813     Taneisha              Queens        Bayswater  40.61113  -73.76546   \n",
      "48819      Ms. Tou              Queens  Cambria Heights  40.69000  -73.73098   \n",
      "48889      Michael              Queens          Jamaica  40.69137  -73.80844   \n",
      "\n",
      "             Room_type   Price  Minimum_nights  Number_of_reviews Last_review  \\\n",
      "196       Private room   46.75               2                 52  20/05/2019   \n",
      "367       Private room   59.50              27                 13  21/09/2015   \n",
      "571       Private room   68.00               2                  2  08/02/2018   \n",
      "698       Private room   63.75               4                 20  30/12/2015   \n",
      "957       Private room   17.00               3                 80  26/05/2019   \n",
      "...                ...     ...             ...                ...         ...   \n",
      "48791     Private room   42.50               3                  0  07/07/2019   \n",
      "48799     Private room  199.75               1                  1  07/07/2019   \n",
      "48813  Entire home/apt   68.00               2                  0  07/07/2019   \n",
      "48819     Private room   42.50               1                  0  07/07/2019   \n",
      "48889     Private room   55.25               1                  0  08/07/2019   \n",
      "\n",
      "       Reviews_per_month  Calculated_host_listings_count  Availability_365  \n",
      "196             0.490000                               2               365  \n",
      "367             0.130000                               1               335  \n",
      "571             0.050000                               1               158  \n",
      "698             0.230000                               1                 0  \n",
      "957             0.920000                               1               226  \n",
      "...                  ...                             ...               ...  \n",
      "48791           1.373229                               1               176  \n",
      "48799           1.000000                               1                87  \n",
      "48813           1.373229                               1                87  \n",
      "48819           1.373229                               1               175  \n",
      "48889           1.373229                               2               163  \n",
      "\n",
      "[1234 rows x 16 columns]\n"
     ]
    }
   ],
   "source": [
    "# Identify outliers \n",
    "\n",
    "z_scores = stats.zscore(nyc['Longitude'])\n",
    "\n",
    "threshold = 3  \n",
    "outlier_indices = (z_scores > threshold) | (z_scores < -threshold)\n",
    "outliers = nyc[outlier_indices]\n",
    "\n",
    "print(\"Outliers:\")\n",
    "print(outliers)"
   ]
  },
  {
   "cell_type": "code",
   "execution_count": null,
   "id": "6cc3f3eb",
   "metadata": {},
   "outputs": [],
   "source": []
  }
 ],
 "metadata": {
  "kernelspec": {
   "display_name": "Python 3 (ipykernel)",
   "language": "python",
   "name": "python3"
  },
  "language_info": {
   "codemirror_mode": {
    "name": "ipython",
    "version": 3
   },
   "file_extension": ".py",
   "mimetype": "text/x-python",
   "name": "python",
   "nbconvert_exporter": "python",
   "pygments_lexer": "ipython3",
   "version": "3.11.4"
  }
 },
 "nbformat": 4,
 "nbformat_minor": 5
}
